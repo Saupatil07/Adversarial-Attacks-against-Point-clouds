{
 "cells": [
  {
   "cell_type": "code",
   "execution_count": 14,
   "metadata": {},
   "outputs": [],
   "source": [
    "from model_dgcnn import DGCNN_cls\n",
    "import torch"
   ]
  },
  {
   "cell_type": "code",
   "execution_count": 19,
   "metadata": {},
   "outputs": [
    {
     "data": {
      "text/plain": [
       "<All keys matched successfully>"
      ]
     },
     "execution_count": 19,
     "metadata": {},
     "output_type": "execute_result"
    }
   ],
   "source": [
    "model = DGCNN_cls(k=20, emb_dims=1024, dropout=0.5, output_channels=40)\n",
    "model = torch.nn.DataParallel(model)    \n",
    "model = model.eval()\n",
    "model.load_state_dict(torch.load(\"/home/akshay/Downloads/TAIT/dgcnn.pytorch/pretrained/model.cls.1024.t7\"))"
   ]
  },
  {
   "cell_type": "code",
   "execution_count": 20,
   "metadata": {},
   "outputs": [
    {
     "name": "stdout",
     "output_type": "stream",
     "text": [
      "27 Linear(in_features=256, out_features=10, bias=True)\n"
     ]
    }
   ],
   "source": [
    "for i, mod in enumerate(model.modules()):\n",
    "    if i == 27:\n",
    "        mod = torch.nn.Linear(256, 10)\n",
    "        print(i, mod)"
   ]
  },
  {
   "cell_type": "code",
   "execution_count": 6,
   "metadata": {},
   "outputs": [],
   "source": [
    "state = torch.load(\"/home/akshay/Downloads/TAIT/dgcnn.pytorch/pretrained/model.cls.1024.t7\")"
   ]
  },
  {
   "cell_type": "code",
   "execution_count": 10,
   "metadata": {},
   "outputs": [
    {
     "ename": "AttributeError",
     "evalue": "'collections.OrderedDict' object has no attribute 'weights'",
     "output_type": "error",
     "traceback": [
      "\u001b[0;31m---------------------------------------------------------------------------\u001b[0m",
      "\u001b[0;31mAttributeError\u001b[0m                            Traceback (most recent call last)",
      "\u001b[1;32m/home/akshay/Downloads/TAIT/pointNetFGSM/test.ipynb Cell 5'\u001b[0m in \u001b[0;36m<cell line: 1>\u001b[0;34m()\u001b[0m\n\u001b[0;32m----> <a href='vscode-notebook-cell:/home/akshay/Downloads/TAIT/pointNetFGSM/test.ipynb#ch0000004?line=0'>1</a>\u001b[0m \u001b[39mfor\u001b[39;00m mod \u001b[39min\u001b[39;00m state\u001b[39m.\u001b[39;49mweights():\n\u001b[1;32m      <a href='vscode-notebook-cell:/home/akshay/Downloads/TAIT/pointNetFGSM/test.ipynb#ch0000004?line=1'>2</a>\u001b[0m     \u001b[39mprint\u001b[39m(mod)\n",
      "\u001b[0;31mAttributeError\u001b[0m: 'collections.OrderedDict' object has no attribute 'weights'"
     ]
    }
   ],
   "source": [
    "for mod in state.weights():\n",
    "    print(mod)"
   ]
  },
  {
   "cell_type": "code",
   "execution_count": 1,
   "metadata": {},
   "outputs": [
    {
     "ename": "AttributeError",
     "evalue": "module 'wandb' has no attribute 'init'",
     "output_type": "error",
     "traceback": [
      "\u001b[0;31m---------------------------------------------------------------------------\u001b[0m",
      "\u001b[0;31mAttributeError\u001b[0m                            Traceback (most recent call last)",
      "\u001b[1;32m/home/akshay/Downloads/TAIT/pointNetFGSM/test.ipynb Cell 6'\u001b[0m in \u001b[0;36m<cell line: 2>\u001b[0;34m()\u001b[0m\n\u001b[1;32m      <a href='vscode-notebook-cell:/home/akshay/Downloads/TAIT/pointNetFGSM/test.ipynb#ch0000005?line=0'>1</a>\u001b[0m \u001b[39mimport\u001b[39;00m \u001b[39mwandb\u001b[39;00m\n\u001b[0;32m----> <a href='vscode-notebook-cell:/home/akshay/Downloads/TAIT/pointNetFGSM/test.ipynb#ch0000005?line=1'>2</a>\u001b[0m wandb\u001b[39m.\u001b[39;49minit(project\u001b[39m=\u001b[39m\u001b[39m\"\u001b[39m\u001b[39mhgndbs\u001b[39m\u001b[39m\"\u001b[39m)\n",
      "\u001b[0;31mAttributeError\u001b[0m: module 'wandb' has no attribute 'init'"
     ]
    }
   ],
   "source": [
    "from wandb\n",
    "wandb.init(project=\"hgndbs\")"
   ]
  },
  {
   "cell_type": "code",
   "execution_count": 2,
   "metadata": {},
   "outputs": [
    {
     "name": "stdout",
     "output_type": "stream",
     "text": [
      "Jupyter environment detected. Enabling Open3D WebVisualizer.\n",
      "[Open3D INFO] WebRTC GUI backend enabled.\n",
      "[Open3D INFO] WebRTCWindowSystem: HTTP handshake server disabled.\n"
     ]
    }
   ],
   "source": [
    "import numpy as np\n",
    "import torch\n",
    "import torch.nn as nn\n",
    "from torch.utils.data import DataLoader\n",
    "import torchvision.transforms as tt\n",
    "from transforms import Normalize, PointSampler, RandomNoise, RandRotation_z, ToTensor\n",
    "from dataset import PointCloudData\n",
    "from model import PointNet\n",
    "import open3d as o3d\n",
    "from path import Path\n",
    "import argparse\n",
    "import sklearn\n",
    "from sklearn.metrics import recall_score, precision_score, confusion_matrix\n",
    "from tqdm import tqdm\n",
    "from utils import plot_class_wise_scores\n",
    "import wandb"
   ]
  },
  {
   "cell_type": "code",
   "execution_count": 3,
   "metadata": {},
   "outputs": [],
   "source": [
    "path = Path(\"ModelNet10\")\n",
    "test_dataset = PointCloudData(path, True, \"test\")"
   ]
  },
  {
   "cell_type": "code",
   "execution_count": 7,
   "metadata": {},
   "outputs": [
    {
     "name": "stdout",
     "output_type": "stream",
     "text": [
      "{0: 'bathtub', 1: 'bed', 2: 'chair', 3: 'desk', 4: 'dresser', 5: 'monitor', 6: 'night_stand', 7: 'sofa', 8: 'table', 9: 'toilet'}\n"
     ]
    }
   ],
   "source": [
    "    inv_classes = {i: cat for cat, i in test_dataset.classes.items()};\n",
    "    print(inv_classes)\n",
    "    aas = np.random.randint(0, 10, (10))"
   ]
  },
  {
   "cell_type": "code",
   "execution_count": 9,
   "metadata": {},
   "outputs": [
    {
     "name": "stdout",
     "output_type": "stream",
     "text": [
      "bathtub 9\n",
      "bed 5\n",
      "chair 6\n",
      "desk 3\n",
      "dresser 4\n",
      "monitor 6\n",
      "night_stand 6\n",
      "sofa 4\n",
      "table 6\n",
      "toilet 2\n"
     ]
    }
   ],
   "source": [
    "for aa, (key, val) in zip(aas, inv_classes.items()):\n",
    "    print(val, aa)\n",
    "data = [[label, val] for (label, (x, val)) in zip(aas, inv_classes.items())]"
   ]
  },
  {
   "cell_type": "code",
   "execution_count": 11,
   "metadata": {},
   "outputs": [],
   "source": [
    "import wandb"
   ]
  },
  {
   "cell_type": "code",
   "execution_count": 13,
   "metadata": {},
   "outputs": [
    {
     "ename": "AttributeError",
     "evalue": "module 'wandb' has no attribute 'Table'",
     "output_type": "error",
     "traceback": [
      "\u001b[0;31m---------------------------------------------------------------------------\u001b[0m",
      "\u001b[0;31mAttributeError\u001b[0m                            Traceback (most recent call last)",
      "\u001b[1;32m/home/akshay/Downloads/TAIT/pointNetFGSM/test.ipynb Cell 12'\u001b[0m in \u001b[0;36m<cell line: 1>\u001b[0;34m()\u001b[0m\n\u001b[0;32m----> <a href='vscode-notebook-cell:/home/akshay/Downloads/TAIT/pointNetFGSM/test.ipynb#ch0000011?line=0'>1</a>\u001b[0m table \u001b[39m=\u001b[39m wandb\u001b[39m.\u001b[39;49mTable(data\u001b[39m=\u001b[39mdata, columns \u001b[39m=\u001b[39m [\u001b[39m\"\u001b[39m\u001b[39mlabel\u001b[39m\u001b[39m\"\u001b[39m, \u001b[39m\"\u001b[39m\u001b[39mvalue\u001b[39m\u001b[39m\"\u001b[39m])\n\u001b[1;32m      <a href='vscode-notebook-cell:/home/akshay/Downloads/TAIT/pointNetFGSM/test.ipynb#ch0000011?line=1'>2</a>\u001b[0m wandb\u001b[39m.\u001b[39mlog({\u001b[39m\"\u001b[39m\u001b[39mmy_bar_chart_id\u001b[39m\u001b[39m\"\u001b[39m : wandb\u001b[39m.\u001b[39mplot\u001b[39m.\u001b[39mbar(table, \u001b[39m\"\u001b[39m\u001b[39mlabel\u001b[39m\u001b[39m\"\u001b[39m, \u001b[39m\"\u001b[39m\u001b[39mvalue\u001b[39m\u001b[39m\"\u001b[39m,\n\u001b[1;32m      <a href='vscode-notebook-cell:/home/akshay/Downloads/TAIT/pointNetFGSM/test.ipynb#ch0000011?line=2'>3</a>\u001b[0m                                title\u001b[39m=\u001b[39m\u001b[39m\"\u001b[39m\u001b[39mCustom Bar Chart\u001b[39m\u001b[39m\"\u001b[39m)})\n",
      "\u001b[0;31mAttributeError\u001b[0m: module 'wandb' has no attribute 'Table'"
     ]
    }
   ],
   "source": [
    "table = wandb.Table(data=data, columns = [\"label\", \"value\"])\n",
    "wandb.log({\"my_bar_chart_id\" : wandb.plot.bar(table, \"label\", \"value\",\n",
    "                               title=\"Custom Bar Chart\")})"
   ]
  },
  {
   "cell_type": "code",
   "execution_count": 1,
   "metadata": {},
   "outputs": [],
   "source": [
    "import matplotlib.pyplot as plt"
   ]
  },
  {
   "cell_type": "code",
   "execution_count": 4,
   "metadata": {},
   "outputs": [
    {
     "data": {
      "image/png": "[encoded data removed]",
      "text/plain": [
       "<Figure size 432x288 with 1 Axes>"
      ]
     },
     "metadata": {
      "needs_background": "light"
     },
     "output_type": "display_data"
    }
   ],
   "source": [
    "fig, ax = plt.subplots(1, 1)\n",
    "a = [75.869, 72.447, 62.996, 54.943, 37.439, 23.258, 4.214, 4.133]\n",
    "eps =  [0, 0.001, 0.005, 0.01, 0.05, 0.1, 0.5, 1] \n",
    "ax.plot(a, eps, label=\"fgsm\")\n",
    "ax.set_title(\"Accuracy vs epsilon\")\n",
    "ax.set_xlabel(\"Epsilon\")\n",
    "ax.set_ylabel(\"Accuracy\")\n",
    "ax.legend()\n",
    "plt.show()"
   ]
  },
  {
   "cell_type": "code",
   "execution_count": null,
   "metadata": {},
   "outputs": [],
   "source": []
  }
 ],
 "metadata": {
  "interpreter": {
   "hash": "42cbedcfe9fa7abca32c3dc942ffa4604ca0ec5f59453c7ca663b4d0fc45e239"
  },
  "kernelspec": {
   "display_name": "Python 3.8.13 ('tait')",
   "language": "python",
   "name": "python3"
  },
  "language_info": {
   "codemirror_mode": {
    "name": "ipython",
    "version": 3
   },
   "file_extension": ".py",
   "mimetype": "text/x-python",
   "name": "python",
   "nbconvert_exporter": "python",
   "pygments_lexer": "ipython3",
   "version": "3.8.13"
  },
  "orig_nbformat": 4
 },
 "nbformat": 4,
 "nbformat_minor": 2
}
